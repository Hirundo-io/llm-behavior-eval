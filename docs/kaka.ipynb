{
 "cells": [
  {
   "cell_type": "code",
   "execution_count": 1,
   "id": "5f694140-9821-4b23-a5df-a2d7c2cc2132",
   "metadata": {},
   "outputs": [],
   "source": [
    "from google import genai\n",
    "from google.genai.types import HttpOptions\n",
    "from google.genai.types import GenerateContentConfig"
   ]
  },
  {
   "cell_type": "code",
   "execution_count": null,
   "id": "d2f6e2db-acfd-44dc-a2b8-434ee2935a63",
   "metadata": {},
   "outputs": [
    {
     "data": {
      "text/plain": [
       "True"
      ]
     },
     "execution_count": 13,
     "metadata": {},
     "output_type": "execute_result"
    }
   ],
   "source": [
    "from dotenv import load_dotenv\n",
    "load_dotenv()\n",
    "\n",
    "# ✅ Usage:\n",
    "# 1. Create a file named \".env\" in this directory (or any parent directory).\n",
    "# 2. Inside .env, add the following lines (no quotes around the values):\n",
    "#\n",
    "#    GOOGLE_API_KEY=your-api-key-here\n",
    "#    GOOGLE_GENAI_USE_VERTEXAI=True\n",
    "#\n",
    "# 3. Never commit the .env file to version control.\n",
    "#    This keeps your API key secret while still making it available\n",
    "#    to your notebook via environment variables.\n",
    "#\n",
    "# After calling load_dotenv(), you can access the values with:\n",
    "#    import os\n",
    "#    os.environ[\"GOOGLE_API_KEY\"]"
   ]
  },
  {
   "cell_type": "code",
   "execution_count": 7,
   "id": "bba1081a-58fe-4cb8-a837-6c2b99d927f8",
   "metadata": {
    "scrolled": true
   },
   "outputs": [
    {
     "name": "stdout",
     "output_type": "stream",
     "text": [
      "AI, or Artificial Intelligence, works by enabling computer systems to **simulate human-like intelligence**. This isn't one single \"thing,\" but rather a vast field encompassing many different approaches and technologies.\n",
      "\n",
      "At its core, AI works by **identifying patterns and making predictions or decisions based on data.**\n",
      "\n",
      "Let's break down the fundamental building blocks and processes:\n",
      "\n",
      "### The Core Components\n",
      "\n",
      "1.  **Data: The Fuel**\n",
      "    *   AI systems learn from data. This data can be anything: text, images, audio, numbers, videos, sensor readings, etc.\n",
      "    *   **Quality and quantity matter:** More diverse, accurate, and relevant data generally leads to better AI performance.\n",
      "\n",
      "2.  **Algorithms: The Recipes**\n",
      "    *   Algorithms are sets of rules or instructions that the AI system follows to process data and learn.\n",
      "    *   They are mathematical procedures that help the AI find relationships, make classifications, or generate new content.\n",
      "\n",
      "3.  **Models: The Learned \"Brain\"**\n",
      "    *   A \"model\" is the outcome of an algorithm learning from data. It's essentially the trained AI system itself.\n",
      "    *   Think of it as the \"brain\" that has absorbed knowledge from the data and can now apply that knowledge to new situations.\n",
      "\n",
      "### How Learning Happens (The Process)\n",
      "\n",
      "The most common way AI \"learns\" is through a process called **Machine Learning (ML)**, which is a core subset of AI.\n",
      "\n",
      "1.  **Training Phase (Learning):**\n",
      "    *   **Input:** The AI model is fed a large dataset.\n",
      "    *   **Algorithm at work:** The chosen algorithm processes this data, looking for patterns, correlations, and rules.\n",
      "    *   **Adjustment:** Based on what it finds (and often, based on feedback regarding its initial \"guesses\"), the model adjusts its internal parameters (like weights in a neural network). This is similar to a student practicing problems and refining their understanding.\n",
      "    *   **Goal:** The aim is to minimize errors and enable the model to accurately identify patterns or make predictions on the data it has *already seen*.\n",
      "\n",
      "2.  **Inference/Prediction Phase (Applying Learning):**\n",
      "    *   **Input:** Once trained, the model is exposed to *new, unseen data*.\n",
      "    *   **Prediction/Decision:** The model uses the patterns it learned during training to make a prediction, classification, or decision about this new data.\n",
      "    *   **Example:** If it was trained on millions of images of cats and dogs, when shown a new image, it can infer whether it's a cat or a dog.\n",
      "\n",
      "### Different Ways AI Learns (Types of Machine Learning)\n",
      "\n",
      "*   **Supervised Learning:**\n",
      "    *   **How it works:** The AI is trained on \"labeled\" data, meaning the correct answer is provided for each input.\n",
      "    *   **Analogy:** Like a student with an answer key, learning by correcting their mistakes.\n",
      "    *   **Examples:** Spam detection (emails labeled \"spam\" or \"not spam\"), image classification (images labeled \"cat\" or \"dog\"), predicting house prices (data includes house features and their actual prices).\n",
      "\n",
      "*   **Unsupervised Learning:**\n",
      "    *   **How it works:** The AI is given \"unlabeled\" data and must find patterns, structures, or relationships within it on its own.\n",
      "    *   **Analogy:** Like a student exploring a dataset and trying to group similar items without any prior instructions on what the groups should be.\n",
      "    *   **Examples:** Customer segmentation (grouping customers with similar buying habits), anomaly detection (finding unusual patterns in network traffic).\n",
      "\n",
      "*   **Reinforcement Learning:**\n",
      "    *   **How it works:** The AI learns by trial and error, interacting with an environment. It receives \"rewards\" for desired actions and \"penalties\" for undesired ones.\n",
      "    *   **Analogy:** Like teaching a dog tricks with treats (rewards) or scolding (penalties).\n",
      "    *   **Examples:** Training AI to play games (like AlphaGo), autonomous driving, robot control.\n",
      "\n",
      "### Key AI Technologies You Hear About\n",
      "\n",
      "*   **Deep Learning (a subset of Machine Learning):**\n",
      "    *   Uses **Artificial Neural Networks** with multiple \"layers\" (hence \"deep\"). These networks are inspired by the structure of the human brain.\n",
      "    *   Especially powerful for handling very complex data like images, audio, and large volumes of text, often discovering intricate patterns that traditional algorithms might miss. This is what powers most modern advancements like facial recognition, voice assistants, and advanced image generation.\n",
      "\n",
      "*   **Natural Language Processing (NLP):**\n",
      "    *   Enables AI to understand, interpret, and generate human language.\n",
      "    *   **Examples:** Chatbots, language translation, sentiment analysis, text summarization.\n",
      "\n",
      "*   **Computer Vision (CV):**\n",
      "    *   Enables AI to \"see\" and interpret visual information from images and videos.\n",
      "    *   **Examples:** Facial recognition, object detection, medical image analysis, self-driving cars.\n",
      "\n",
      "*   **Generative AI:**\n",
      "    *   A type of AI (often powered by Deep Learning) that can create new content, such as images, text, audio, or video, that is similar to its training data but not identical.\n",
      "    *   **Examples:** ChatGPT (generating text), DALL-E/Midjourney (generating images from text descriptions).\n",
      "\n",
      "In essence, AI works by using sophisticated mathematical and statistical methods to allow computers to learn from experience (data), identify hidden relationships, and then apply that learned knowledge to perform tasks, make predictions, or generate new content, often at speeds and scales far beyond human capability.\n"
     ]
    }
   ],
   "source": [
    "client = genai.Client(http_options=HttpOptions(api_version=\"v1\"))\n",
    "response = client.models.generate_content(\n",
    "    model=\"gemini-2.5-flash\",\n",
    "    contents=\"How does AI work?\",\n",
    "    config=GenerateContentConfig(\n",
    "        response_logprobs=True,  # default to False\n",
    "        logprobs=19,  # [0-19]\n",
    "    )\n",
    ")\n",
    "print(response.text)\n",
    "# Example response:\n",
    "# Okay, let's break down how AI works. It's a broad field, so I'll focus on the ...\n",
    "#\n",
    "# Here's a simplified overview:\n",
    "# ..."
   ]
  },
  {
   "cell_type": "code",
   "execution_count": 8,
   "id": "7594812b-5cf9-4a0c-aced-758903839e68",
   "metadata": {
    "scrolled": true
   },
   "outputs": [
    {
     "name": "stdout",
     "output_type": "stream",
     "text": [
      "Token 0: 'AI' (logp=-0.093)\n",
      "   alt: 'AI' (logp=-0.093)\n",
      "   alt: 'At' (logp=-2.848)\n",
      "   alt: 'Artificial' (logp=-3.890)\n",
      "   alt: 'That' (logp=-5.219)\n",
      "   alt: '\"' (logp=-6.592)\n",
      "Token 1: ',' (logp=-0.077)\n",
      "   alt: ',' (logp=-0.077)\n",
      "   alt: ' isn' (logp=-3.459)\n",
      "   alt: ' (' (logp=-3.499)\n",
      "   alt: ' works' (logp=-5.095)\n",
      "   alt: ' is' (logp=-5.562)\n",
      "Token 2: ' or' (logp=-0.076)\n",
      "   alt: ' or' (logp=-0.076)\n",
      "   alt: ' at' (logp=-2.756)\n",
      "   alt: ' short' (logp=-5.261)\n",
      "   alt: ' which' (logp=-5.986)\n",
      "   alt: ' particularly' (logp=-7.874)\n",
      "Token 3: ' Artificial' (logp=-0.032)\n",
      "   alt: ' Artificial' (logp=-0.032)\n",
      "   alt: ' **' (logp=-3.505)\n",
      "   alt: ' *' (logp=-6.986)\n",
      "   alt: ' artificial' (logp=-10.178)\n",
      "   alt: ' \"' (logp=-10.643)\n",
      "Token 4: ' Intelligence' (logp=-0.000)\n",
      "   alt: ' Intelligence' (logp=-0.000)\n",
      "   alt: ' intelligence' (logp=-9.081)\n",
      "   alt: ' Intelli' (logp=-14.645)\n",
      "   alt: 'IGENCE' (logp=-15.066)\n",
      "   alt: ' Intell' (logp=-15.138)\n",
      "Token 5: ',' (logp=-0.000)\n",
      "   alt: ',' (logp=-0.000)\n",
      "   alt: ' (' (logp=-12.936)\n",
      "   alt: ' broadly' (logp=-15.380)\n",
      "   alt: ' generally' (logp=-15.826)\n",
      "   alt: ' at' (logp=-16.363)\n",
      "Token 6: ' isn' (logp=-0.762)\n",
      "   alt: ' isn' (logp=-0.762)\n",
      "   alt: ' at' (logp=-1.556)\n",
      "   alt: ' works' (logp=-1.622)\n",
      "   alt: ' is' (logp=-2.979)\n",
      "   alt: ' fundamentally' (logp=-3.229)\n",
      "Token 7: ' by' (logp=-0.010)\n",
      "   alt: ' by' (logp=-0.010)\n",
      "   alt: ' fundamentally' (logp=-5.292)\n",
      "   alt: ' on' (logp=-5.945)\n",
      "   alt: ' primarily' (logp=-6.137)\n",
      "   alt: ' based' (logp=-9.704)\n",
      "Token 8: ' enabling' (logp=-0.415)\n",
      "   alt: ' enabling' (logp=-0.415)\n",
      "   alt: ' **' (logp=-1.301)\n",
      "   alt: ' essentially' (logp=-4.033)\n",
      "   alt: ' allowing' (logp=-4.644)\n",
      "   alt: ' using' (logp=-5.143)\n",
      "Token 9: ' computer' (logp=-0.864)\n",
      "   alt: ' computer' (logp=-0.864)\n",
      "   alt: ' computers' (logp=-1.142)\n",
      "   alt: ' machines' (logp=-1.357)\n",
      "   alt: ' **' (logp=-6.534)\n",
      "   alt: ' systems' (logp=-8.656)\n"
     ]
    }
   ],
   "source": [
    "cand = response.candidates[0]\n",
    "lp = cand.logprobs_result  # has .top_candidates\n",
    " \n",
    "for i, tc in enumerate(lp.top_candidates[:10]):  # limit to first 10 tokens for readability\n",
    "     chosen = tc.candidates[0]\n",
    "     print(f\"Token {i}: '{chosen.token}' (logp={chosen.log_probability:.3f})\")\n",
    " \n",
    "     # show top-k alternatives (up to 5 here, but you can raise it to 20)\n",
    "     for alt in tc.candidates[:5]:\n",
    "         print(f\"   alt: '{alt.token}' (logp={alt.log_probability:.3f})\")"
   ]
  }
 ],
 "metadata": {
  "kernelspec": {
   "display_name": "Python 3 (ipykernel)",
   "language": "python",
   "name": "python3"
  },
  "language_info": {
   "codemirror_mode": {
    "name": "ipython",
    "version": 3
   },
   "file_extension": ".py",
   "mimetype": "text/x-python",
   "name": "python",
   "nbconvert_exporter": "python",
   "pygments_lexer": "ipython3",
   "version": "3.11.7"
  }
 },
 "nbformat": 4,
 "nbformat_minor": 5
}
